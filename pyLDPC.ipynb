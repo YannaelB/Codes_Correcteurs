{
 "cells": [
  {
   "cell_type": "code",
   "execution_count": 1,
   "id": "55b20bfc",
   "metadata": {},
   "outputs": [
    {
     "name": "stdout",
     "output_type": "stream",
     "text": [
      "Number of coded bits: 11\n"
     ]
    }
   ],
   "source": [
    "\"\"\"\n",
    "================================================\n",
    "Coding - Decoding simulation of a random message\n",
    "================================================\n",
    "This example shows a simulation of the transmission of a binary message\n",
    "through a gaussian white noise channel with an LDPC coding and decoding system.\n",
    "\"\"\"\n",
    "\n",
    "\n",
    "import numpy as np\n",
    "from pyldpc import make_ldpc, decode, get_message, encode\n",
    "from matplotlib import pyplot as plt\n",
    "import random \n",
    "\n",
    "\n",
    "n = 30\n",
    "d_v = 2\n",
    "d_c = 3\n",
    "seed = np.random.RandomState(42)\n",
    "##################################################################\n",
    "# First we create an LDPC code i.e a pair of decoding and coding matrices\n",
    "# H and G. H is a regular parity-check matrix with d_v ones per row\n",
    "# and d_c ones per column\n",
    "\n",
    "H, G = make_ldpc(n, d_v, d_c, seed=seed, systematic=True, sparse=True)\n",
    "\n",
    "n, k = G.shape\n",
    "print(\"Number of coded bits:\", k)\n",
    "print(\"taille de H =\", H.shape, \"et taille de G = \", G.shape)\n"
   ]
  },
  {
   "cell_type": "code",
   "execution_count": 2,
   "id": "64199f1e",
   "metadata": {},
   "outputs": [
    {
     "name": "stdout",
     "output_type": "stream",
     "text": [
      "RandomState(MT19937)\n",
      "(20, 30)\n",
      "(30, 11)\n"
     ]
    },
    {
     "data": {
      "text/plain": [
       "(20, 11)"
      ]
     },
     "execution_count": 2,
     "metadata": {},
     "output_type": "execute_result"
    }
   ],
   "source": [
    "print(seed)\n",
    "\n",
    "#print(\"H = \",H)\n",
    "\n",
    "#print(\"G = \")\n",
    "#print(G)\n",
    "\n",
    "\n",
    "\n",
    "print(H.shape)\n",
    "\n",
    "print(G.shape)\n",
    "\n",
    "A = np.dot(H,G)\n",
    "A.shape\n",
    "#print(A)"
   ]
  },
  {
   "cell_type": "code",
   "execution_count": 3,
   "id": "ac99b7cf",
   "metadata": {},
   "outputs": [
    {
     "name": "stdout",
     "output_type": "stream",
     "text": [
      "c =  [-1 -1  0 -1  0  0 -1  0 -1 -1 -1  0  0  0 -1  0 -1  0  0  0 -1  0 -1 -1\n",
      " -1  0  0  0 -1  0]\n",
      "c2 =  [-1 -1  1 -1  1  1 -1  1 -1 -1 -1  1  1  1 -1  1 -1  1  1  1 -1  1 -1 -1\n",
      " -1  1  1  1 -1  1]\n",
      "c3 =  [-1.25, -1.12, 0.99, -0.81, 0.86, 1.15, -0.86, 0.8200000000000001, -0.86, -1.08, -0.94, 0.9, 1.04, 0.83, -1.17, 1.18, -1.26, 1.09, 1.08, 1.18, -1.09, 0.84, -1.1, -1.34, -0.63, 0.88, 0.84, 0.84, -1.23, 0.99]\n"
     ]
    }
   ],
   "source": [
    "message = np.array([1,1,0,1,0,0,1,0,1,1,1])\n",
    "c = np.dot(message.T,G.T)%(-2)\n",
    "print(\"c = \",c)\n",
    "len(c)\n",
    "\n",
    "c2 = c\n",
    "for i in range(len(c)):\n",
    "    if c[i] == 0:\n",
    "        c2[i] = 1\n",
    "\n",
    "print(\"c2 = \",c2)\n",
    "\n",
    "#snr = np.zeros((30,1))\n",
    "#snr\n",
    "\n",
    "c3 = [k + round(np.random.normal(0, 0.2),2) for k in c2]\n",
    "print(\"c3 = \",c3)\n",
    "\n",
    "\n",
    "\n"
   ]
  },
  {
   "cell_type": "code",
   "execution_count": 13,
   "id": "1d669519",
   "metadata": {},
   "outputs": [
    {
     "name": "stdout",
     "output_type": "stream",
     "text": [
      "c3_abs =  [-1, -1, 1, -1, 1, 1, 1, 1, -1, -1, -1, 1, 1, 1, -1, 1, -1, 1, 1, 1, -1, 1, -1, -1, -1, -1, 1, 1, -1, 1]\n",
      "il y a :  2  nombre d'erreurs\n",
      " bit_faux =  24\n",
      "\n",
      "\n",
      " bit_faux =  25\n",
      "\n",
      "\n",
      "il y a :  2  nombre d'erreurs\n",
      "c_err =  [-1.25, -1.12, 0.99, -0.81, 0.86, 1.15, 0.14, 0.8200000000000001, -0.86, -1.08, -0.94, 0.9, 1.04, 0.83, -1.17, 1.18, -1.26, 1.09, 1.08, 1.18, -1.09, 0.84, -1.1, -1.34, 0.37, 0.88, 0.84, 0.84, -1.23, 0.99]\n"
     ]
    }
   ],
   "source": [
    "def check_nb_err(message_vrai,message_decode):\n",
    "    nb_faute = 0\n",
    "    for i in range(len(message_vrai)):\n",
    "        if message_decode[i] == message_vrai[i] :\n",
    "            nb_faute += 0\n",
    "        else:\n",
    "            nb_faute += 1\n",
    "    return print(\"il y a : \",nb_faute,\" nombre d'erreurs\")\n",
    "    \n",
    "def val_abs(message):\n",
    "    message_corrige = []\n",
    "    for i in range(len(message)):\n",
    "        if message[i] >= 0:\n",
    "            message_corrige.append(1)\n",
    "        else:\n",
    "            message_corrige.append(-1)\n",
    "    return message_corrige\n",
    "\n",
    "c3_abs = val_abs(c3)\n",
    "print(\"c3_abs = \", c3_abs)\n",
    "\n",
    "check_nb_err(c2,c3_abs)\n",
    "\n",
    "def add_error(message):\n",
    "    for i in range(2): # change de bit 1 seul sign\n",
    "        stop = 0\n",
    "        bit_faux = random.randint(0,len(message)-1)\n",
    "        print(\" bit_faux = \", bit_faux)\n",
    "        print(\"\\n\")\n",
    "        while abs(message[bit_faux]) > 1 and stop < 30 : #to be sure to change the sign\n",
    "            stop += 1\n",
    "            bit_faux = random.randint(0,len(message)-1)\n",
    "        if message[bit_faux] <= 0:\n",
    "            message[bit_faux] += 1\n",
    "        else: \n",
    "            message[bit_faux] -= 1\n",
    "    return message\n",
    "\n",
    "c_err = add_error(c3)\n",
    "check_nb_err(c2,val_abs(c_err))\n",
    "print(\"c_err = \", c_err)\n",
    "        "
   ]
  },
  {
   "cell_type": "code",
   "execution_count": 5,
   "id": "57711cab",
   "metadata": {},
   "outputs": [
    {
     "name": "stdout",
     "output_type": "stream",
     "text": [
      "y =  [-1. -1.  1. -1.  1.  1. -1.  1. -1. -1. -1.  1.  1.  1. -1.  1. -1.  1.\n",
      "  1.  1. -1.  1. -1. -1. -1.  1.  1.  1. -1.  1.]\n",
      "D =  [1 1 0 1 0 0 0 0 1 1 1 0 0 0 1 0 1 0 0 0 1 0 1 1 1 1 0 0 1 0]\n"
     ]
    },
    {
     "name": "stderr",
     "output_type": "stream",
     "text": [
      "C:\\Users\\yanna\\anaconda3\\lib\\site-packages\\pyldpc\\decoder.py:48: RuntimeWarning: divide by zero encountered in true_divide\n",
      "  Lc = 2 * y / var\n",
      "C:\\Users\\yanna\\anaconda3\\lib\\site-packages\\pyldpc\\decoder.py:62: UserWarning: Decoding stopped before convergence. You may want\n",
      "                       to increase maxiter\n",
      "  warnings.warn(\"\"\"Decoding stopped before convergence. You may want\n"
     ]
    },
    {
     "name": "stdout",
     "output_type": "stream",
     "text": [
      "x =  [1 1 0 1 0 0 0 0 1 1 1]\n",
      "message initial =  [1 1 0 1 0 0 1 0 1 1 1]\n",
      "il y a :  1  nombre d'erreurs\n"
     ]
    }
   ],
   "source": [
    "y = encode(G,message,9999)\n",
    "print(\"y = \",y)\n",
    "\n",
    "maxiter = 1500\n",
    "\n",
    "D = decode(H, np.array(c_err),9999,maxiter)\n",
    "print(\"D = \",D)\n",
    "len(D)\n",
    "\n",
    "x = get_message(G, D)\n",
    "\n",
    "print(\"x = \",x)\n",
    "\n",
    "print(\"message initial = \",message)\n",
    "check_nb_err(message,x)\n",
    "\n"
   ]
  },
  {
   "cell_type": "code",
   "execution_count": null,
   "id": "4784d870",
   "metadata": {},
   "outputs": [],
   "source": []
  },
  {
   "cell_type": "code",
   "execution_count": null,
   "id": "4b63089f",
   "metadata": {},
   "outputs": [],
   "source": []
  },
  {
   "cell_type": "code",
   "execution_count": null,
   "id": "399f3620",
   "metadata": {},
   "outputs": [],
   "source": []
  },
  {
   "cell_type": "code",
   "execution_count": null,
   "id": "0afe019b",
   "metadata": {},
   "outputs": [],
   "source": []
  },
  {
   "cell_type": "code",
   "execution_count": 6,
   "id": "82ac5a3e",
   "metadata": {
    "scrolled": false
   },
   "outputs": [
    {
     "data": {
      "image/png": "[encoded data removed]",
      "text/plain": [
       "<Figure size 432x288 with 1 Axes>"
      ]
     },
     "metadata": {
      "needs_background": "light"
     },
     "output_type": "display_data"
    }
   ],
   "source": [
    "##################################################################\n",
    "# Now we simulate transmission for different levels of noise and\n",
    "# compute the percentage of errors using the bit-error-rate score\n",
    "# The coding and decoding can be done in parallel by column stacking.\n",
    "\n",
    "errors = []\n",
    "snrs = np.linspace(-2, 10, 20)\n",
    "v = np.arange(k) % 2  # fixed k bits message\n",
    "n_trials = 53  # number of transmissions with different noise\n",
    "V = np.tile(v, (n_trials, 1)).T  # stack v in columns\n",
    "\n",
    "for snr in snrs:\n",
    "    y = encode(G, V, snr, seed=seed)\n",
    "    #print(\"taille de y = \",len(y),' y encode = ',y)\n",
    "    D = decode(H, y, snr)\n",
    "    #print(\"taille de D = \",D.shape,' D decode = ',D)\n",
    "    error = 0.\n",
    "    for i in range(n_trials):\n",
    "        x = get_message(G, D[:, i])\n",
    "        \n",
    "        error += abs(v - x).sum() / (k * n_trials)\n",
    "    errors.append(error)\n",
    "    #print(\" error = \", error)\n",
    "\n",
    "\n",
    "plt.figure()\n",
    "plt.plot(snrs, errors, color=\"indianred\")\n",
    "plt.ylabel(\"Bit error rate\")\n",
    "plt.xlabel(\"SNR\")\n",
    "plt.show()"
   ]
  },
  {
   "cell_type": "code",
   "execution_count": 7,
   "id": "f55f1b5a",
   "metadata": {},
   "outputs": [
    {
     "name": "stdout",
     "output_type": "stream",
     "text": [
      "(11, 53)\n",
      "(11,)\n",
      "(30, 11)\n",
      "(20, 30)\n"
     ]
    },
    {
     "data": {
      "text/plain": [
       "array([[ 0.99579291,  1.02446433,  1.08623338, ...,  1.17742319,\n",
       "         0.99165666,  1.48990636],\n",
       "       [-0.51478946, -0.71825772, -1.40377618, ..., -0.61115098,\n",
       "        -1.40535408, -0.55379618],\n",
       "       [ 0.9600078 ,  0.91219785,  0.86703439, ...,  0.7162024 ,\n",
       "         1.24931011,  1.00607627],\n",
       "       ...,\n",
       "       [ 0.49695404,  1.02148581,  0.85100665, ...,  0.95838424,\n",
       "         0.69833361,  1.32207989],\n",
       "       [-1.23521533, -0.74431307, -0.94097985, ..., -0.72520974,\n",
       "        -0.91287997, -0.83376229],\n",
       "       [-0.79219637, -0.66868219, -0.76541599, ..., -0.78688827,\n",
       "        -0.86048515, -1.19898653]])"
      ]
     },
     "execution_count": 7,
     "metadata": {},
     "output_type": "execute_result"
    }
   ],
   "source": [
    "\n",
    "\n",
    "\n",
    "print(V.shape)\n",
    "print(v.shape)\n",
    "print(G.shape)\n",
    "print(H.shape)\n",
    "\n",
    "y"
   ]
  },
  {
   "cell_type": "code",
   "execution_count": 8,
   "id": "4212722c",
   "metadata": {},
   "outputs": [],
   "source": [
    "#y = encode(G,c,snr)\n",
    "#print(\"y = \",y)\n",
    "\n",
    "#D = decode(H, y)\n",
    "#print(\"D = \",D)"
   ]
  },
  {
   "cell_type": "code",
   "execution_count": 9,
   "id": "7fff266d",
   "metadata": {},
   "outputs": [],
   "source": [
    "import numpy as np\n",
    "from pyldpc import make_ldpc, encode, decode, get_message\n",
    "import time\n",
    "\n",
    "n = 15\n",
    "d_v = 4\n",
    "d_c = 5\n",
    "snr = 10\n",
    "maxiter=100\n",
    "H, G = make_ldpc(n, d_v, d_c, systematic=True, sparse=True)\n",
    "k = G.shape[1]\n",
    "v = np.random.randint(2, size=k)\n",
    "y = encode(G, v, snr)\n",
    "#d = decode(H, y, snr, maxiter=100, log=True)\n",
    "d = decode(H, y, snr, maxiter)\n",
    "x = get_message(G, d)\n",
    "assert abs(x - v).sum() == 0"
   ]
  },
  {
   "cell_type": "code",
   "execution_count": 10,
   "id": "6920ef5d",
   "metadata": {},
   "outputs": [],
   "source": [
    "def timer_update(i,current,time_tot,tic_incr=500):\n",
    "    last = current\n",
    "    current = time.time()\n",
    "    t_diff = current-last\n",
    "    print('SNR: {:04.3f} - Iter: {} - Last {} iterations took {:03.2f}s'.format(snr,i+1,tic_incr,t_diff))\n",
    "    return time_tot + t_diff"
   ]
  },
  {
   "cell_type": "code",
   "execution_count": 11,
   "id": "5b6233c8",
   "metadata": {},
   "outputs": [
    {
     "name": "stdout",
     "output_type": "stream",
     "text": [
      "hello here\n"
     ]
    },
    {
     "name": "stderr",
     "output_type": "stream",
     "text": [
      "C:\\Users\\yanna\\anaconda3\\lib\\site-packages\\pyldpc\\decoder.py:62: UserWarning: Decoding stopped before convergence. You may want\n",
      "                       to increase maxiter\n",
      "  warnings.warn(\"\"\"Decoding stopped before convergence. You may want\n"
     ]
    },
    {
     "name": "stdout",
     "output_type": "stream",
     "text": [
      "SNR: 0.000 - Iter: 250 - Last 250.0 iterations took 1.52s\n",
      "SNR: 0.000 - Iter: 500 - Last 250.0 iterations took 3.01s\n",
      "SNR: 0.000 - Iter: 750 - Last 250.0 iterations took 4.69s\n"
     ]
    },
    {
     "ename": "KeyboardInterrupt",
     "evalue": "",
     "output_type": "error",
     "traceback": [
      "\u001b[1;31m---------------------------------------------------------------------------\u001b[0m",
      "\u001b[1;31mKeyboardInterrupt\u001b[0m                         Traceback (most recent call last)",
      "Input \u001b[1;32mIn [11]\u001b[0m, in \u001b[0;36m<cell line: 11>\u001b[1;34m()\u001b[0m\n\u001b[0;32m     21\u001b[0m y \u001b[38;5;241m=\u001b[39m encode(G, v_i, snr)\n\u001b[0;32m     22\u001b[0m \u001b[38;5;66;03m#print(\"y = \", y.shape)\u001b[39;00m\n\u001b[1;32m---> 23\u001b[0m d \u001b[38;5;241m=\u001b[39m \u001b[43mdecode\u001b[49m\u001b[43m(\u001b[49m\u001b[43mH\u001b[49m\u001b[43m,\u001b[49m\u001b[43m \u001b[49m\u001b[43my\u001b[49m\u001b[43m,\u001b[49m\u001b[43m \u001b[49m\u001b[43msnr\u001b[49m\u001b[43m,\u001b[49m\u001b[43m \u001b[49m\u001b[43mmaxiter\u001b[49m\u001b[43m)\u001b[49m\n\u001b[0;32m     24\u001b[0m x \u001b[38;5;241m=\u001b[39m get_message(G, d)\n\u001b[0;32m     25\u001b[0m \u001b[38;5;28;01mif\u001b[39;00m \u001b[38;5;28mabs\u001b[39m(x\u001b[38;5;241m-\u001b[39mv_i)\u001b[38;5;241m.\u001b[39msum() \u001b[38;5;241m!=\u001b[39m \u001b[38;5;241m0\u001b[39m :\n",
      "File \u001b[1;32m~\\anaconda3\\lib\\site-packages\\pyldpc\\decoder.py:57\u001b[0m, in \u001b[0;36mdecode\u001b[1;34m(H, y, snr, maxiter)\u001b[0m\n\u001b[0;32m     54\u001b[0m \u001b[38;5;28;01mfor\u001b[39;00m n_iter \u001b[38;5;129;01min\u001b[39;00m \u001b[38;5;28mrange\u001b[39m(maxiter):\n\u001b[0;32m     55\u001b[0m     Lq, Lr, L_posteriori \u001b[38;5;241m=\u001b[39m solver(bits_hist, bits_values, nodes_hist,\n\u001b[0;32m     56\u001b[0m                                   nodes_values, Lc, Lq, Lr, n_iter)\n\u001b[1;32m---> 57\u001b[0m     x \u001b[38;5;241m=\u001b[39m \u001b[43mnp\u001b[49m\u001b[38;5;241;43m.\u001b[39;49m\u001b[43marray\u001b[49m\u001b[43m(\u001b[49m\u001b[43mL_posteriori\u001b[49m\u001b[43m \u001b[49m\u001b[38;5;241;43m<\u001b[39;49m\u001b[38;5;241;43m=\u001b[39;49m\u001b[43m \u001b[49m\u001b[38;5;241;43m0\u001b[39;49m\u001b[43m)\u001b[49m\u001b[38;5;241m.\u001b[39mastype(\u001b[38;5;28mint\u001b[39m)\n\u001b[0;32m     58\u001b[0m     product \u001b[38;5;241m=\u001b[39m utils\u001b[38;5;241m.\u001b[39mincode(H, x)\n\u001b[0;32m     59\u001b[0m     \u001b[38;5;28;01mif\u001b[39;00m product:\n",
      "\u001b[1;31mKeyboardInterrupt\u001b[0m: "
     ]
    }
   ],
   "source": [
    "\n",
    "print(\"hello here\")\n",
    "# encode/decode messages for different SNR vals\n",
    "mess_num = int(1e3)\n",
    "tic_incr = mess_num/4\n",
    "v = np.random.randint(2, size=(mess_num,k))\n",
    "min_snr=0\n",
    "max_snr=10\n",
    "snrs = np.arange(min_snr,max_snr,0.5)\n",
    "errs = np.array(())\n",
    "times = np.array(())\n",
    "for snr in snrs:\n",
    "    print\n",
    "    err_num = 0\n",
    "    time_tot = 0\n",
    "    current = time.time()\n",
    "    for i in range(mess_num):\n",
    "        v_i = v[i,:]\n",
    "        #print(\"v_i.shape = \",v_i.shape)\n",
    "        #print(\"G.shape = \",G.shape)\n",
    "        #print(\"SNR.shape = \",snr)\n",
    "        y = encode(G, v_i, snr)\n",
    "        #print(\"y = \", y.shape)\n",
    "        d = decode(H, y, snr, maxiter)\n",
    "        x = get_message(G, d)\n",
    "        if abs(x-v_i).sum() != 0 :\n",
    "            err_num = err_num + 1\n",
    "        if (i+1) % tic_incr == 0:\n",
    "            time_tot = timer_update(i,current,time_tot,tic_incr)\n",
    "    err = float(err_num)/mess_num\n",
    "    print('SNR: {:04.3f}:\\n -> BER: {:03.2f}\\n -> Total Time: {:03.2f}s'.format(snr,err,time_tot))\n",
    "    errs=np.append(errs,err)\n",
    "    times=np.append(times,time_tot)"
   ]
  },
  {
   "cell_type": "code",
   "execution_count": null,
   "id": "d28fec82",
   "metadata": {},
   "outputs": [],
   "source": [
    "# plot results\n",
    "fig, (ax1,ax2) = plt.subplots(2,1,figsize=(8,6))\n",
    "ax1.semilogy(snrs,errs,'o-') # plot BER vs SNR\n",
    "ax1.set_ylabel('BER')\n",
    "ax1.set_title('Regular LDPC ({},{},{})'.format(n,k,n-k))\n",
    "ax2.plot(snrs,times,'o-') # plot decode timing for different SNRs\n",
    "ax2.set_xlabel('$E_b/N_0$')\n",
    "ax2.set_ylabel('Decoding Time [s]')\n",
    "ax2.annotate('Total Runtime: {:03.2f}s'.format(np.sum(times)),\n",
    "            xy=(1, 0.35), xycoords='axes fraction',\n",
    "            xytext=(-20, 20), textcoords='offset pixels',\n",
    "            horizontalalignment='right',\n",
    "            verticalalignment='bottom')\n",
    "plt.savefig('ldpc_ber_{}_{}.png'.format(n,k))\n",
    "plt.show()"
   ]
  },
  {
   "cell_type": "code",
   "execution_count": null,
   "id": "2450226b",
   "metadata": {},
   "outputs": [],
   "source": []
  }
 ],
 "metadata": {
  "kernelspec": {
   "display_name": "Python 3 (ipykernel)",
   "language": "python",
   "name": "python3"
  },
  "language_info": {
   "codemirror_mode": {
    "name": "ipython",
    "version": 3
   },
   "file_extension": ".py",
   "mimetype": "text/x-python",
   "name": "python",
   "nbconvert_exporter": "python",
   "pygments_lexer": "ipython3",
   "version": "3.9.12"
  }
 },
 "nbformat": 4,
 "nbformat_minor": 5
}
